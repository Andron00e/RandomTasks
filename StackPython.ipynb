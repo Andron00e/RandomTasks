{
  "nbformat": 4,
  "nbformat_minor": 0,
  "metadata": {
    "colab": {
      "provenance": []
    },
    "kernelspec": {
      "name": "python3",
      "display_name": "Python 3"
    },
    "language_info": {
      "name": "python"
    }
  },
  "cells": [
    {
      "cell_type": "code",
      "execution_count": 35,
      "metadata": {
        "id": "NJV9lWAVLXMD"
      },
      "outputs": [],
      "source": [
        "class Stack:\n",
        "\n",
        "  def __init__ (self):\n",
        "    self.elements = []\n",
        "\n",
        "  def push (self, item):\n",
        "    self.elements.append(item)\n",
        "\n",
        "  def pop (self):\n",
        "    return self.elements.pop()\n",
        "  \n",
        "  def empty (self):\n",
        "    if len(self) ==0:\n",
        "      return True\n",
        "    else:\n",
        "      return False\n"
      ]
    },
    {
      "cell_type": "code",
      "source": [
        "stack_1 = Stack()\n",
        "stack_2 = Stack()"
      ],
      "metadata": {
        "id": "yDi9qpulOvZa"
      },
      "execution_count": 36,
      "outputs": []
    },
    {
      "cell_type": "code",
      "source": [
        "print(stack_1)"
      ],
      "metadata": {
        "colab": {
          "base_uri": "https://localhost:8080/"
        },
        "id": "FMdecaXJQZLb",
        "outputId": "b29ba1e8-b4e0-4c2d-cad2-820fc8ff5ef9"
      },
      "execution_count": 37,
      "outputs": [
        {
          "output_type": "stream",
          "name": "stdout",
          "text": [
            "<__main__.Stack object at 0x7f4b7c4a8f70>\n"
          ]
        }
      ]
    },
    {
      "cell_type": "code",
      "source": [
        "print(stack_1.__dict__)"
      ],
      "metadata": {
        "colab": {
          "base_uri": "https://localhost:8080/"
        },
        "id": "WNuH840nQJmB",
        "outputId": "1cf66ef5-f170-43c1-dce0-2a24d36b3cfc"
      },
      "execution_count": 38,
      "outputs": [
        {
          "output_type": "stream",
          "name": "stdout",
          "text": [
            "{'elements': []}\n"
          ]
        }
      ]
    },
    {
      "cell_type": "code",
      "source": [
        "stack_1.push('I love')\n",
        "stack_1.push('UPML')\n",
        "print(stack_1.__dict__)\n",
        "print(stack_1.pop())"
      ],
      "metadata": {
        "colab": {
          "base_uri": "https://localhost:8080/"
        },
        "id": "mzWfCjO6QdEI",
        "outputId": "8051c003-9869-4999-b658-e2847759900c"
      },
      "execution_count": 39,
      "outputs": [
        {
          "output_type": "stream",
          "name": "stdout",
          "text": [
            "{'elements': ['I love', 'UPML']}\n",
            "UPML\n"
          ]
        }
      ]
    },
    {
      "cell_type": "code",
      "source": [],
      "metadata": {
        "id": "ShojQB4DRlwR"
      },
      "execution_count": null,
      "outputs": []
    }
  ]
}