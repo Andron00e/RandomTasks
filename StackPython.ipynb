{
  "nbformat": 4,
  "nbformat_minor": 0,
  "metadata": {
    "colab": {
      "provenance": [],
      "authorship_tag": "ABX9TyPF3tiHIGzOvAmI97ydpo6k",
      "include_colab_link": true
    },
    "kernelspec": {
      "name": "python3",
      "display_name": "Python 3"
    },
    "language_info": {
      "name": "python"
    }
  },
  "cells": [
    {
      "cell_type": "markdown",
      "metadata": {
        "id": "view-in-github",
        "colab_type": "text"
      },
      "source": [
        "<a href=\"https://colab.research.google.com/github/Andron00e/RandomTasks/blob/main/StackPython.ipynb\" target=\"_parent\"><img src=\"https://colab.research.google.com/assets/colab-badge.svg\" alt=\"Open In Colab\"/></a>"
      ]
    },
    {
      "cell_type": "code",
      "execution_count": 43,
      "metadata": {
        "id": "NJV9lWAVLXMD"
      },
      "outputs": [],
      "source": [
        "class Stack:\n",
        "\n",
        "  def __init__ (self):\n",
        "    self.elements = []\n",
        "  \n",
        "  def empty (self):\n",
        "    if self.elements == []:\n",
        "      return True\n",
        "    else:\n",
        "      return False\n",
        "\n",
        "  def push (self, item):\n",
        "    self.elements.append(item)\n",
        "\n",
        "  def pop (self):\n",
        "    if self.empty:\n",
        "      return [0]            #marked as I wanted\n",
        "    else:\n",
        "      return self.elements.pop()\n",
        "  \n",
        "\n"
      ]
    },
    {
      "cell_type": "code",
      "source": [
        "stack_1 = Stack()\n",
        "stack_2 = Stack()"
      ],
      "metadata": {
        "id": "yDi9qpulOvZa"
      },
      "execution_count": 44,
      "outputs": []
    },
    {
      "cell_type": "code",
      "source": [
        "print(stack_1)"
      ],
      "metadata": {
        "colab": {
          "base_uri": "https://localhost:8080/"
        },
        "id": "FMdecaXJQZLb",
        "outputId": "d1631616-9624-4c81-bd04-fb165ce22052"
      },
      "execution_count": 45,
      "outputs": [
        {
          "output_type": "stream",
          "name": "stdout",
          "text": [
            "<__main__.Stack object at 0x7f1a244ac6a0>\n"
          ]
        }
      ]
    },
    {
      "cell_type": "code",
      "source": [
        "print(stack_1.__dict__)"
      ],
      "metadata": {
        "colab": {
          "base_uri": "https://localhost:8080/"
        },
        "id": "WNuH840nQJmB",
        "outputId": "37cdde7b-3e5f-47b4-ebf6-d138f6f4d4e4"
      },
      "execution_count": 46,
      "outputs": [
        {
          "output_type": "stream",
          "name": "stdout",
          "text": [
            "{'elements': []}\n"
          ]
        }
      ]
    },
    {
      "cell_type": "code",
      "source": [
        "stack_1.push('I love')\n",
        "stack_1.push('UPML')\n",
        "print(stack_1.__dict__)\n",
        "print(stack_1.pop())"
      ],
      "metadata": {
        "colab": {
          "base_uri": "https://localhost:8080/"
        },
        "id": "mzWfCjO6QdEI",
        "outputId": "d363156a-8245-497b-aec3-da6c68432478"
      },
      "execution_count": 47,
      "outputs": [
        {
          "output_type": "stream",
          "name": "stdout",
          "text": [
            "{'elements': ['I love', 'UPML']}\n",
            "[0]\n"
          ]
        }
      ]
    },
    {
      "cell_type": "code",
      "source": [
        "print(stack_2)\n",
        "stack_2.pop()\n",
        "stack_2.empty()"
      ],
      "metadata": {
        "id": "ShojQB4DRlwR",
        "colab": {
          "base_uri": "https://localhost:8080/"
        },
        "outputId": "5bfcb5eb-b8a1-4c2a-cf1a-6926ace0d2b8"
      },
      "execution_count": 48,
      "outputs": [
        {
          "output_type": "stream",
          "name": "stdout",
          "text": [
            "<__main__.Stack object at 0x7f1a244acfa0>\n"
          ]
        },
        {
          "output_type": "execute_result",
          "data": {
            "text/plain": [
              "True"
            ]
          },
          "metadata": {},
          "execution_count": 48
        }
      ]
    },
    {
      "cell_type": "code",
      "source": [],
      "metadata": {
        "id": "tx4xhMWrSYwC"
      },
      "execution_count": 48,
      "outputs": []
    }
  ]
}