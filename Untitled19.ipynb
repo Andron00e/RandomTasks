{
  "nbformat": 4,
  "nbformat_minor": 0,
  "metadata": {
    "colab": {
      "provenance": [],
      "authorship_tag": "ABX9TyNteBCVfFOtQHV8V1Pf/FWf",
      "include_colab_link": true
    },
    "kernelspec": {
      "name": "python3",
      "display_name": "Python 3"
    },
    "language_info": {
      "name": "python"
    }
  },
  "cells": [
    {
      "cell_type": "markdown",
      "metadata": {
        "id": "view-in-github",
        "colab_type": "text"
      },
      "source": [
        "<a href=\"https://colab.research.google.com/github/Andron00e/RandomTasks/blob/main/Untitled19.ipynb\" target=\"_parent\"><img src=\"https://colab.research.google.com/assets/colab-badge.svg\" alt=\"Open In Colab\"/></a>"
      ]
    },
    {
      "cell_type": "code",
      "source": [
        "from datetime import datetime\n",
        "from time import time\n",
        "from hashlib import sha256\n",
        "import json"
      ],
      "metadata": {
        "id": "3Dlpt9CwsmVS"
      },
      "execution_count": 55,
      "outputs": []
    },
    {
      "cell_type": "code",
      "source": [
        "class Block:\n",
        "\n",
        "  def __init__(self, timestamp = None, data = None):\n",
        "    self.timestamp = timestamp or time()\n",
        "    self.data = [] if data is None else data\n",
        "    self.prev_hash = None\n",
        "    self.nonce = 0\n",
        "    self.hash = self.get_hash()\n",
        "\n",
        "  def get_hash(self):\n",
        "    hash = sha256()\n",
        "    hash.update(str(self.prev_hash).encode('utf-8'))\n",
        "    hash.update(str(self.timestamp).encode('utf-8'))\n",
        "    hash.update(str(self.data).encode('utf-8'))\n",
        "    return hash.hexdigest() \n",
        "\n",
        "  def mine(self, difficulty):\n",
        "    while self.hash[:difficulty] != '0' * difficulty:\n",
        "      self.nonce += 1\n",
        "      self.hash = self.getHash()"
      ],
      "metadata": {
        "id": "jFHmXcabr94c"
      },
      "execution_count": 64,
      "outputs": []
    },
    {
      "cell_type": "code",
      "source": [
        "class Blockchain:\n",
        "\n",
        "  def __init__(self):\n",
        "    self.chain = [Block(str(int(time())))]\n",
        "    self.difficulty = 1\n",
        "    self.block_time = 30000\n",
        "\n",
        "  def get_last_block(self):\n",
        "    return self.chain[len(self.chain)-1]\n",
        "\n",
        "  def add_block(self, block):\n",
        "    block.prev_hash = self.get_last_block().hash\n",
        "    block.hash = block.get_hash()\n",
        "    self.chain.append(block)\n",
        "    self.difficulty += (-1, 1)[int(time()) - int(self.get_last_block().timestamp) < self.block_time]\n",
        "\n",
        "  def is_valid_chain(self):\n",
        "    for i in range(1, len(self.chain)):\n",
        "      current_block = self.chain[i]\n",
        "      prev_block = self.chain[i - 1]\n",
        "      if (current_block.hash != current_block.get_hash or prev_block.hash != current_block.prev_hash):\n",
        "        return False\n",
        "    return True\n",
        "\n",
        "  def __repr__(self):\n",
        "    self.info = [{'data': item.data, 'timestamp': item.timestamp, 'nonce': item.nonce, 'hash': item.hash, 'prev_hash': item.prev_hash} for item in self.chain]\n",
        "    return json.dumps(self.info, indent = 4)"
      ],
      "metadata": {
        "id": "6lSho3V-xmVd"
      },
      "execution_count": 65,
      "outputs": []
    },
    {
      "cell_type": "code",
      "source": [
        "test = Blockchain()\n",
        "\n",
        "test.add_block(Block(str(int(time())), ({\"from\": \"Alice\", \"to\": \"Bob\", \"amount\": 100})))\n",
        "print(test)"
      ],
      "metadata": {
        "colab": {
          "base_uri": "https://localhost:8080/"
        },
        "id": "LbUXhbxN3afz",
        "outputId": "1bbd1edc-540e-4de7-da79-2aff50fd98a3"
      },
      "execution_count": 66,
      "outputs": [
        {
          "output_type": "stream",
          "name": "stdout",
          "text": [
            "[\n",
            "    {\n",
            "        \"data\": [],\n",
            "        \"timestamp\": \"1681747861\",\n",
            "        \"nonce\": 0,\n",
            "        \"hash\": \"236ddad816dc63d5760caa74dd09a7551125e8d13ea2d783248638c989ef2536\",\n",
            "        \"prev_hash\": null\n",
            "    },\n",
            "    {\n",
            "        \"data\": {\n",
            "            \"from\": \"Alice\",\n",
            "            \"to\": \"Bob\",\n",
            "            \"amount\": 100\n",
            "        },\n",
            "        \"timestamp\": \"1681747861\",\n",
            "        \"nonce\": 0,\n",
            "        \"hash\": \"bc3f9814a14bce2e1e0d425ef922e581fbacdb00c91b11e29b625d5356e3f4f5\",\n",
            "        \"prev_hash\": \"236ddad816dc63d5760caa74dd09a7551125e8d13ea2d783248638c989ef2536\"\n",
            "    }\n",
            "]\n"
          ]
        }
      ]
    },
    {
      "cell_type": "code",
      "source": [
        "test.add_block(Block(str(int(time())), ({\"from\": \"Mark\", \"to\": \"Bob\", \"amount\": 100})))\n",
        "print(test)"
      ],
      "metadata": {
        "colab": {
          "base_uri": "https://localhost:8080/"
        },
        "id": "kbg4qry87eKh",
        "outputId": "d5abec00-3f0c-4eb2-8ded-dd90cedab632"
      },
      "execution_count": 67,
      "outputs": [
        {
          "output_type": "stream",
          "name": "stdout",
          "text": [
            "[\n",
            "    {\n",
            "        \"data\": [],\n",
            "        \"timestamp\": \"1681747861\",\n",
            "        \"nonce\": 0,\n",
            "        \"hash\": \"236ddad816dc63d5760caa74dd09a7551125e8d13ea2d783248638c989ef2536\",\n",
            "        \"prev_hash\": null\n",
            "    },\n",
            "    {\n",
            "        \"data\": {\n",
            "            \"from\": \"Alice\",\n",
            "            \"to\": \"Bob\",\n",
            "            \"amount\": 100\n",
            "        },\n",
            "        \"timestamp\": \"1681747861\",\n",
            "        \"nonce\": 0,\n",
            "        \"hash\": \"bc3f9814a14bce2e1e0d425ef922e581fbacdb00c91b11e29b625d5356e3f4f5\",\n",
            "        \"prev_hash\": \"236ddad816dc63d5760caa74dd09a7551125e8d13ea2d783248638c989ef2536\"\n",
            "    },\n",
            "    {\n",
            "        \"data\": {\n",
            "            \"from\": \"Mark\",\n",
            "            \"to\": \"Bob\",\n",
            "            \"amount\": 100\n",
            "        },\n",
            "        \"timestamp\": \"1681747863\",\n",
            "        \"nonce\": 0,\n",
            "        \"hash\": \"79170bec3569329be0b082bad043079e0b77a8f48cc2e6bf5391f8ca03fe125c\",\n",
            "        \"prev_hash\": \"bc3f9814a14bce2e1e0d425ef922e581fbacdb00c91b11e29b625d5356e3f4f5\"\n",
            "    }\n",
            "]\n"
          ]
        }
      ]
    },
    {
      "cell_type": "code",
      "source": [],
      "metadata": {
        "id": "I74P8xvD9LJ8"
      },
      "execution_count": null,
      "outputs": []
    }
  ]
}