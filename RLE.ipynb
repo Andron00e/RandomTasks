{
  "nbformat": 4,
  "nbformat_minor": 0,
  "metadata": {
    "colab": {
      "provenance": [],
      "authorship_tag": "ABX9TyNT/sNnHG38cE9HmSLShHuQ",
      "include_colab_link": true
    },
    "kernelspec": {
      "name": "python3",
      "display_name": "Python 3"
    },
    "language_info": {
      "name": "python"
    }
  },
  "cells": [
    {
      "cell_type": "markdown",
      "metadata": {
        "id": "view-in-github",
        "colab_type": "text"
      },
      "source": [
        "<a href=\"https://colab.research.google.com/github/Andron00e/RandomTasks/blob/main/RLE.ipynb\" target=\"_parent\"><img src=\"https://colab.research.google.com/assets/colab-badge.svg\" alt=\"Open In Colab\"/></a>"
      ]
    },
    {
      "cell_type": "code",
      "execution_count": 1,
      "metadata": {
        "id": "HmgG1l-S-UKS"
      },
      "outputs": [],
      "source": [
        "import numpy as np"
      ]
    },
    {
      "cell_type": "code",
      "source": [
        "def rle(symbol):\n",
        "  def pack(symbol, counter):\n",
        "    if counter > 1:\n",
        "      return symbol + str(counter)\n",
        "    return symbol\n",
        "\n",
        "  last_symbol = symbol[0]\n",
        "  last_position = 0\n",
        "  ans = []\n",
        "  for i in range(len(symbol)):\n",
        "    if symbol[i] != last_symbol:\n",
        "      ans.append(pack(last_symbol, i - last_position))\n",
        "      last_position = i\n",
        "      last_symbol = symbol[i]\n",
        "  ans.append(pack(symbol[last_position], len(symbol) - last_position))\n",
        "  return ' '.join(ans)\n"
      ],
      "metadata": {
        "id": "9RVrJziw-ZVa"
      },
      "execution_count": 2,
      "outputs": []
    },
    {
      "cell_type": "code",
      "source": [
        "rle('aaabbbccc')"
      ],
      "metadata": {
        "colab": {
          "base_uri": "https://localhost:8080/",
          "height": 35
        },
        "id": "A9q7n3IUAqAp",
        "outputId": "97bc5a71-0596-46a3-b470-dd22fc303340"
      },
      "execution_count": 3,
      "outputs": [
        {
          "output_type": "execute_result",
          "data": {
            "text/plain": [
              "'a3 b3 c3'"
            ],
            "application/vnd.google.colaboratory.intrinsic+json": {
              "type": "string"
            }
          },
          "metadata": {},
          "execution_count": 3
        }
      ]
    },
    {
      "cell_type": "code",
      "source": [
        "rle('abcdefghijklmnoprst')"
      ],
      "metadata": {
        "colab": {
          "base_uri": "https://localhost:8080/",
          "height": 35
        },
        "id": "Bk6fJjy4Asry",
        "outputId": "96785a3b-3570-49f3-ed63-1dccea184bb5"
      },
      "execution_count": 4,
      "outputs": [
        {
          "output_type": "execute_result",
          "data": {
            "text/plain": [
              "'a b c d e f g h i j k l m n o p r s t'"
            ],
            "application/vnd.google.colaboratory.intrinsic+json": {
              "type": "string"
            }
          },
          "metadata": {},
          "execution_count": 4
        }
      ]
    },
    {
      "cell_type": "code",
      "source": [
        "rle('algorithms')"
      ],
      "metadata": {
        "colab": {
          "base_uri": "https://localhost:8080/",
          "height": 35
        },
        "id": "WWpxw01fBFeI",
        "outputId": "15d43518-d472-4df6-cf1d-b18d5002684a"
      },
      "execution_count": 5,
      "outputs": [
        {
          "output_type": "execute_result",
          "data": {
            "text/plain": [
              "'a l g o r i t h m s'"
            ],
            "application/vnd.google.colaboratory.intrinsic+json": {
              "type": "string"
            }
          },
          "metadata": {},
          "execution_count": 5
        }
      ]
    },
    {
      "cell_type": "code",
      "source": [
        "rle('Mirra')"
      ],
      "metadata": {
        "colab": {
          "base_uri": "https://localhost:8080/",
          "height": 35
        },
        "id": "QA9sZz0qBKrU",
        "outputId": "ae6f2d72-1f20-42b5-c63b-ee16e3ec851a"
      },
      "execution_count": 6,
      "outputs": [
        {
          "output_type": "execute_result",
          "data": {
            "text/plain": [
              "'M i r2 a'"
            ],
            "application/vnd.google.colaboratory.intrinsic+json": {
              "type": "string"
            }
          },
          "metadata": {},
          "execution_count": 6
        }
      ]
    },
    {
      "cell_type": "code",
      "source": [],
      "metadata": {
        "id": "W25pDtikBNnz"
      },
      "execution_count": null,
      "outputs": []
    }
  ]
}